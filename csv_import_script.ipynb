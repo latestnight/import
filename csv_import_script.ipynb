{
 "cells": [
  {
   "cell_type": "code",
   "execution_count": 1,
   "metadata": {},
   "outputs": [],
   "source": [
    "import pandas as pd\n",
    "import glob\n"
   ]
  },
  {
   "cell_type": "markdown",
   "metadata": {},
   "source": [
    "example of code that will be automated, including dataframe naming convention"
   ]
  },
  {
   "cell_type": "code",
   "execution_count": null,
   "metadata": {},
   "outputs": [],
   "source": [
    "#convenience_store37201 = pd.read_csv('/Users/k.simmons/Desktop/NSS/data analytics bootcamp/capstone/Data/API_queries/convenience_store/convenience_store37201.csv')\n",
    "#convenience_store37203 = pd.read_csv('/Users/k.simmons/Desktop/NSS/data analytics bootcamp/capstone/Data/API_queries/convenience_store/convenience_store37203.csv')\n",
    "#convenience_store37204 = pd.read_csv('/Users/k.simmons/Desktop/NSS/data analytics bootcamp/capstone/Data/API_queries/convenience_store/convenience_store37204.csv')\n"
   ]
  },
  {
   "cell_type": "markdown",
   "metadata": {},
   "source": [
    "trying to make for-loop to automate all this"
   ]
  },
  {
   "cell_type": "markdown",
   "metadata": {},
   "source": [
    "file-structure dictionary"
   ]
  },
  {
   "cell_type": "code",
   "execution_count": 6,
   "metadata": {},
   "outputs": [],
   "source": [
    "data = {\n",
    "        'API_queries' : {\n",
    "                        'convenience_store' : str('/convenience_store'),\n",
    "                        'gas_station' : str('/gas_station'),\n",
    "                        'grocery' : str('/grocery'),\n",
    "                        'restaurant' : str('/restaurant'),\n",
    "        }\n",
    "}"
   ]
  },
  {
   "cell_type": "code",
   "execution_count": 9,
   "metadata": {},
   "outputs": [
    {
     "data": {
      "text/plain": [
       "'/convenience_store'"
      ]
     },
     "execution_count": 9,
     "metadata": {},
     "output_type": "execute_result"
    }
   ],
   "source": [
    "data['API_queries']['convenience_store']"
   ]
  },
  {
   "cell_type": "code",
   "execution_count": null,
   "metadata": {},
   "outputs": [],
   "source": []
  },
  {
   "cell_type": "code",
   "execution_count": null,
   "metadata": {},
   "outputs": [],
   "source": [
    "for file in folder\n"
   ]
  }
 ],
 "metadata": {
  "interpreter": {
   "hash": "d711d3c95c96716b4a626a9ac1cdbb3ae5e410baae0045fe5d148912e2703fdb"
  },
  "kernelspec": {
   "display_name": "Python 3.8.5 ('geospatial')",
   "language": "python",
   "name": "python3"
  },
  "language_info": {
   "codemirror_mode": {
    "name": "ipython",
    "version": 3
   },
   "file_extension": ".py",
   "mimetype": "text/x-python",
   "name": "python",
   "nbconvert_exporter": "python",
   "pygments_lexer": "ipython3",
   "version": "3.8.5"
  },
  "orig_nbformat": 4
 },
 "nbformat": 4,
 "nbformat_minor": 2
}
