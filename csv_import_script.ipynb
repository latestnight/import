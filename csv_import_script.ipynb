{
 "cells": [
  {
   "cell_type": "code",
   "execution_count": 1,
   "metadata": {},
   "outputs": [],
   "source": [
    "import pandas as pd\n",
    "import numpy as np\n",
    "import geopandas as gpd\n",
    "import matplotlib.pyplot as plt\n",
    "import seaborn as sns\n",
    "import folium\n",
    "from folium import plugins\n",
    "from shapely.geometry import Point"
   ]
  },
  {
   "cell_type": "code",
   "execution_count": null,
   "metadata": {},
   "outputs": [],
   "source": [
    "convenience_store37201 = pd.read_csv('/Users/k.simmons/Desktop/NSS/data analytics bootcamp/capstone/Data/API_queries/convenience_store/convenience_store37201.csv')\n",
    "convenience_store37203 = pd.read_csv('/Users/k.simmons/Desktop/NSS/data analytics bootcamp/capstone/Data/API_queries/convenience_store/convenience_store37203.csv')\n",
    "convenience_store37204 = pd.read_csv('/Users/k.simmons/Desktop/NSS/data analytics bootcamp/capstone/Data/API_queries/convenience_store/convenience_store37204.csv')\n",
    "convenience_store37205 = pd.read_csv('/Users/k.simmons/Desktop/NSS/data analytics bootcamp/capstone/Data/API_queries/convenience_store/convenience_store37205.csv')\n",
    "convenience_store37206 = pd.read_csv('/Users/k.simmons/Desktop/NSS/data analytics bootcamp/capstone/Data/API_queries/convenience_store/convenience_store37206.csv')\n",
    "convenience_store37207 = pd.read_csv('/Users/k.simmons/Desktop/NSS/data analytics bootcamp/capstone/Data/API_queries/convenience_store/convenience_store37207.csv')\n",
    "convenience_store37208 = pd.read_csv('/Users/k.simmons/Desktop/NSS/data analytics bootcamp/capstone/Data/API_queries/convenience_store/convenience_store37208.csv')\n",
    "convenience_store37209 = pd.read_csv('/Users/k.simmons/Desktop/NSS/data analytics bootcamp/capstone/Data/API_queries/convenience_store/convenience_store37209.csv')\n",
    "convenience_store37210 = pd.read_csv('/Users/k.simmons/Desktop/NSS/data analytics bootcamp/capstone/Data/API_queries/convenience_store/convenience_store37210.csv')\n",
    "convenience_store37211 = pd.read_csv('/Users/k.simmons/Desktop/NSS/data analytics bootcamp/capstone/Data/API_queries/convenience_store/convenience_store37211.csv')\n",
    "convenience_store37212 = pd.read_csv('/Users/k.simmons/Desktop/NSS/data analytics bootcamp/capstone/Data/API_queries/convenience_store/convenience_store37212.csv')\n",
    "convenience_store37213 = pd.read_csv('/Users/k.simmons/Desktop/NSS/data analytics bootcamp/capstone/Data/API_queries/convenience_store/convenience_store37213.csv')\n",
    "convenience_store37214 = pd.read_csv('/Users/k.simmons/Desktop/NSS/data analytics bootcamp/capstone/Data/API_queries/convenience_store/convenience_store37214.csv')\n",
    "convenience_store37215 = pd.read_csv('/Users/k.simmons/Desktop/NSS/data analytics bootcamp/capstone/Data/API_queries/convenience_store/convenience_store37215.csv')\n",
    "convenience_store37216 = pd.read_csv('/Users/k.simmons/Desktop/NSS/data analytics bootcamp/capstone/Data/API_queries/convenience_store/convenience_store37216.csv')\n",
    "convenience_store37217 = pd.read_csv('/Users/k.simmons/Desktop/NSS/data analytics bootcamp/capstone/Data/API_queries/convenience_store/convenience_store37217.csv')\n",
    "convenience_store37218 = pd.read_csv('/Users/k.simmons/Desktop/NSS/data analytics bootcamp/capstone/Data/API_queries/convenience_store/convenience_store37218.csv')\n",
    "convenience_store37219 = pd.read_csv('/Users/k.simmons/Desktop/NSS/data analytics bootcamp/capstone/Data/API_queries/convenience_store/convenience_store37219.csv')\n",
    "convenience_store37220 = pd.read_csv('/Users/k.simmons/Desktop/NSS/data analytics bootcamp/capstone/Data/API_queries/convenience_store/convenience_store37220.csv')\n",
    "convenience_store37221 = pd.read_csv('/Users/k.simmons/Desktop/NSS/data analytics bootcamp/capstone/Data/API_queries/convenience_store/convenience_store37221.csv')\n",
    "convenience_store37228 = pd.read_csv('/Users/k.simmons/Desktop/NSS/data analytics bootcamp/capstone/Data/API_queries/convenience_store/convenience_store37228.csv')\n",
    "convenience_store37232 = pd.read_csv('/Users/k.simmons/Desktop/NSS/data analytics bootcamp/capstone/Data/API_queries/convenience_store/convenience_store37232.csv')\n",
    "convenience_store37240 = pd.read_csv('/Users/k.simmons/Desktop/NSS/data analytics bootcamp/capstone/Data/API_queries/convenience_store/convenience_store37240.csv')\n",
    "\n",
    "\n"
   ]
  },
  {
   "cell_type": "markdown",
   "metadata": {},
   "source": [
    "trying to make for-loop to automate all this"
   ]
  },
  {
   "cell_type": "markdown",
   "metadata": {},
   "source": [
    "file-structure dictionary"
   ]
  },
  {
   "cell_type": "code",
   "execution_count": 6,
   "metadata": {},
   "outputs": [],
   "source": [
    "data = {\n",
    "        'API_queries' : {\n",
    "                        'convenience_store' : str('/convenience_store'),\n",
    "                        'gas_station' : str('/gas_station'),\n",
    "                        'grocery' : str('/grocery'),\n",
    "                        'restaurant' : str('/restaurant'),\n",
    "        }\n",
    "}"
   ]
  },
  {
   "cell_type": "code",
   "execution_count": 9,
   "metadata": {},
   "outputs": [
    {
     "data": {
      "text/plain": [
       "'/convenience_store'"
      ]
     },
     "execution_count": 9,
     "metadata": {},
     "output_type": "execute_result"
    }
   ],
   "source": [
    "data['API_queries']['convenience_store']"
   ]
  },
  {
   "cell_type": "code",
   "execution_count": null,
   "metadata": {},
   "outputs": [],
   "source": [
    "for file in /Users/k.simmons/Desktop/NSS/data analytics bootcamp/capstone/Data/API_queries/"
   ]
  }
 ],
 "metadata": {
  "interpreter": {
   "hash": "d711d3c95c96716b4a626a9ac1cdbb3ae5e410baae0045fe5d148912e2703fdb"
  },
  "kernelspec": {
   "display_name": "Python 3.8.5 ('geospatial')",
   "language": "python",
   "name": "python3"
  },
  "language_info": {
   "codemirror_mode": {
    "name": "ipython",
    "version": 3
   },
   "file_extension": ".py",
   "mimetype": "text/x-python",
   "name": "python",
   "nbconvert_exporter": "python",
   "pygments_lexer": "ipython3",
   "version": "3.8.5"
  },
  "orig_nbformat": 4
 },
 "nbformat": 4,
 "nbformat_minor": 2
}
